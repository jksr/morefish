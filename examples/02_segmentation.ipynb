{
 "cells": [
  {
   "cell_type": "code",
   "execution_count": 1,
   "id": "fc8bbc70",
   "metadata": {
    "ExecuteTime": {
     "end_time": "2024-02-08T23:51:55.069466Z",
     "start_time": "2024-02-08T23:51:50.431178Z"
    }
   },
   "outputs": [],
   "source": [
    "import matplotlib.pyplot as plt\n",
    "from matplotlib.gridspec import GridSpec\n",
    "\n",
    "import numpy as np\n",
    "import pandas as pd\n",
    "import geopandas as gpd\n",
    "import morefish as mf"
   ]
  },
  {
   "cell_type": "markdown",
   "id": "425e146c",
   "metadata": {},
   "source": [
    "Give a name to your segmentation results.\n",
    "\n",
    "Here I use `\"seg_name='test'\"`"
   ]
  },
  {
   "cell_type": "code",
   "execution_count": 3,
   "id": "257f2f19",
   "metadata": {
    "ExecuteTime": {
     "end_time": "2024-02-08T23:51:55.080103Z",
     "start_time": "2024-02-08T23:51:55.075382Z"
    }
   },
   "outputs": [],
   "source": [
    "mr_dirn = '/gale/netapp/home/wtian/bican/incoming/output/'\\\n",
    "            '202310201411_P28-mouse-brain-B4-1_VMSC12802/region_0'"
   ]
  },
  {
   "cell_type": "markdown",
   "id": "63ff2bce",
   "metadata": {},
   "source": [
    "Load the merfish region "
   ]
  },
  {
   "cell_type": "code",
   "execution_count": 4,
   "id": "1946a6b8",
   "metadata": {
    "ExecuteTime": {
     "end_time": "2024-02-08T23:52:53.005881Z",
     "start_time": "2024-02-08T23:52:30.775725Z"
    },
    "scrolled": false
   },
   "outputs": [
    {
     "name": "stderr",
     "output_type": "stream",
     "text": [
      "\u001b[32m2024-02-08 15:52:30.776\u001b[0m | \u001b[1mINFO    \u001b[0m | \u001b[36mmorefish.merfish\u001b[0m:\u001b[36m_prepare_dir\u001b[0m:\u001b[36m272\u001b[0m - \u001b[1mPreparing directories\u001b[0m\n",
      "\u001b[32m2024-02-08 15:52:30.779\u001b[0m | \u001b[1mINFO    \u001b[0m | \u001b[36mmorefish.merfish\u001b[0m:\u001b[36m_read_manifest\u001b[0m:\u001b[36m283\u001b[0m - \u001b[1mReading MERSCOPE manifest\u001b[0m\n",
      "\u001b[32m2024-02-08 15:52:30.786\u001b[0m | \u001b[1mINFO    \u001b[0m | \u001b[36mmorefish.merfish\u001b[0m:\u001b[36m_prepare_tiles\u001b[0m:\u001b[36m298\u001b[0m - \u001b[1mTile file tiles.json loaded\u001b[0m\n",
      "\u001b[32m2024-02-08 15:52:30.787\u001b[0m | \u001b[1mINFO    \u001b[0m | \u001b[36mmorefish.merfish\u001b[0m:\u001b[36m__init__\u001b[0m:\u001b[36m244\u001b[0m - \u001b[1mPreparing unit transformer\u001b[0m\n",
      "\u001b[32m2024-02-08 15:52:30.790\u001b[0m | \u001b[1mINFO    \u001b[0m | \u001b[36mmorefish.merfish\u001b[0m:\u001b[36m__init__\u001b[0m:\u001b[36m247\u001b[0m - \u001b[1mPreparing transcripts\u001b[0m\n",
      "\u001b[32m2024-02-08 15:52:30.790\u001b[0m | \u001b[1mINFO    \u001b[0m | \u001b[36mmorefish.merfish\u001b[0m:\u001b[36m__init__\u001b[0m:\u001b[36m131\u001b[0m - \u001b[1mLoading transcript coord file: transcripts.npz\u001b[0m\n"
     ]
    }
   ],
   "source": [
    "mr = mf.MerfishRegion(mr_dirn)"
   ]
  },
  {
   "cell_type": "markdown",
   "id": "f6444444",
   "metadata": {},
   "source": [
    "Name your segmentation task"
   ]
  },
  {
   "cell_type": "code",
   "execution_count": 5,
   "id": "76baf5a9",
   "metadata": {
    "ExecuteTime": {
     "end_time": "2024-02-08T23:53:14.642580Z",
     "start_time": "2024-02-08T23:53:14.640051Z"
    }
   },
   "outputs": [],
   "source": [
    "seg_name='test'"
   ]
  },
  {
   "cell_type": "markdown",
   "id": "77755b68",
   "metadata": {},
   "source": [
    "Initialize a segmentor. MOREFISH uses cellpose for cell segmentation\n",
    "\n",
    "Either a predefined model in cellpose or a customized model can be used.\n",
    "\n",
    "Here we use a model we customizely pretained with cellpose"
   ]
  },
  {
   "cell_type": "code",
   "execution_count": 6,
   "id": "85d611a3",
   "metadata": {
    "ExecuteTime": {
     "end_time": "2024-02-08T23:57:24.877516Z",
     "start_time": "2024-02-08T23:57:21.599172Z"
    }
   },
   "outputs": [],
   "source": [
    "pretained_cp_model_path = '/gale/netapp/home/wtian/bican/projects/morefisher/entry/0112from0'\n",
    "segor = mf.seg.Segmentor(mr, seg_name, model_kws=dict(pretrained_path=pretained_cp_model_path))"
   ]
  },
  {
   "cell_type": "markdown",
   "id": "88e3d7f6",
   "metadata": {
    "ExecuteTime": {
     "end_time": "2024-02-08T23:58:52.973255Z",
     "start_time": "2024-02-08T23:58:52.969440Z"
    }
   },
   "source": [
    "Using both DAPI and PolyT stains and z3 images for segemantaion.\n",
    "\n",
    "The images will be split into tiles (see 01_entry for explanation), and the segmentation will be done for each tile.\n",
    "\n",
    "This could take hours."
   ]
  },
  {
   "cell_type": "code",
   "execution_count": 12,
   "id": "38591770",
   "metadata": {
    "ExecuteTime": {
     "end_time": "2024-02-09T00:01:20.256923Z",
     "start_time": "2024-02-09T00:01:14.178551Z"
    }
   },
   "outputs": [
    {
     "name": "stderr",
     "output_type": "stream",
     "text": [
      "\u001b[32m2024-02-08 16:01:14.179\u001b[0m | \u001b[1mINFO    \u001b[0m | \u001b[36mmorefish.seg.seg\u001b[0m:\u001b[36msegment_all_tiles\u001b[0m:\u001b[36m84\u001b[0m - \u001b[1mSegmenting each tile for task \"test\". Skipping existing segmentations.\u001b[0m\n",
      "100%|████████████████████████████████████████████████████████████████████████████████████████████████████████| 1551/1551 [00:06<00:00, 255.77it/s]\n"
     ]
    }
   ],
   "source": [
    "tile_segs = segor.segment_all_tiles(['DAPI','PolyT',None], 3 )"
   ]
  },
  {
   "cell_type": "markdown",
   "id": "325e4c6e",
   "metadata": {},
   "source": [
    "All tile segmentation results need to be compiled into the final segmentation"
   ]
  },
  {
   "cell_type": "code",
   "execution_count": 13,
   "id": "9e4e14c8",
   "metadata": {
    "ExecuteTime": {
     "end_time": "2024-02-09T00:02:38.699204Z",
     "start_time": "2024-02-09T00:01:20.258547Z"
    },
    "collapsed": true
   },
   "outputs": [
    {
     "name": "stderr",
     "output_type": "stream",
     "text": [
      "/data/wtian/local/miniconda3/envs/morefish/lib/python3.9/site-packages/shapely/set_operations.py:340: RuntimeWarning: invalid value encountered in union\n",
      "  return lib.union(a, b, **kwargs)\n",
      "/data/wtian/local/miniconda3/envs/morefish/lib/python3.9/site-packages/shapely/set_operations.py:340: RuntimeWarning: divide by zero encountered in union\n",
      "  return lib.union(a, b, **kwargs)\n",
      "/data/wtian/local/miniconda3/envs/morefish/lib/python3.9/site-packages/shapely/set_operations.py:340: RuntimeWarning: divide by zero encountered in union\n",
      "  return lib.union(a, b, **kwargs)\n",
      "/data/wtian/local/miniconda3/envs/morefish/lib/python3.9/site-packages/shapely/set_operations.py:340: RuntimeWarning: divide by zero encountered in union\n",
      "  return lib.union(a, b, **kwargs)\n",
      "/data/wtian/local/miniconda3/envs/morefish/lib/python3.9/site-packages/shapely/set_operations.py:340: RuntimeWarning: divide by zero encountered in union\n",
      "  return lib.union(a, b, **kwargs)\n",
      "/data/wtian/local/miniconda3/envs/morefish/lib/python3.9/site-packages/shapely/set_operations.py:340: RuntimeWarning: divide by zero encountered in union\n",
      "  return lib.union(a, b, **kwargs)\n",
      "/data/wtian/local/miniconda3/envs/morefish/lib/python3.9/site-packages/shapely/set_operations.py:340: RuntimeWarning: divide by zero encountered in union\n",
      "  return lib.union(a, b, **kwargs)\n",
      "/data/wtian/local/miniconda3/envs/morefish/lib/python3.9/site-packages/shapely/set_operations.py:340: RuntimeWarning: divide by zero encountered in union\n",
      "  return lib.union(a, b, **kwargs)\n",
      "/data/wtian/local/miniconda3/envs/morefish/lib/python3.9/site-packages/shapely/set_operations.py:340: RuntimeWarning: divide by zero encountered in union\n",
      "  return lib.union(a, b, **kwargs)\n",
      "/data/wtian/local/miniconda3/envs/morefish/lib/python3.9/site-packages/shapely/set_operations.py:340: RuntimeWarning: divide by zero encountered in union\n",
      "  return lib.union(a, b, **kwargs)\n",
      "/data/wtian/local/miniconda3/envs/morefish/lib/python3.9/site-packages/shapely/set_operations.py:340: RuntimeWarning: divide by zero encountered in union\n",
      "  return lib.union(a, b, **kwargs)\n",
      "/data/wtian/local/miniconda3/envs/morefish/lib/python3.9/site-packages/shapely/set_operations.py:340: RuntimeWarning: divide by zero encountered in union\n",
      "  return lib.union(a, b, **kwargs)\n",
      "/data/wtian/local/miniconda3/envs/morefish/lib/python3.9/site-packages/shapely/set_operations.py:340: RuntimeWarning: divide by zero encountered in union\n",
      "  return lib.union(a, b, **kwargs)\n",
      "/data/wtian/local/miniconda3/envs/morefish/lib/python3.9/site-packages/shapely/set_operations.py:340: RuntimeWarning: divide by zero encountered in union\n",
      "  return lib.union(a, b, **kwargs)\n",
      "/data/wtian/local/miniconda3/envs/morefish/lib/python3.9/site-packages/shapely/set_operations.py:340: RuntimeWarning: divide by zero encountered in union\n",
      "  return lib.union(a, b, **kwargs)\n"
     ]
    }
   ],
   "source": [
    "cell_segs = segor.compile_segs(tile_segs)"
   ]
  },
  {
   "cell_type": "markdown",
   "id": "d63fc26c",
   "metadata": {},
   "source": [
    "Partition the detected transcripts into cells based on the segmentation results"
   ]
  },
  {
   "cell_type": "code",
   "execution_count": 14,
   "id": "bbac3b00",
   "metadata": {
    "ExecuteTime": {
     "end_time": "2024-02-09T00:03:19.621125Z",
     "start_time": "2024-02-09T00:02:39.820657Z"
    }
   },
   "outputs": [
    {
     "name": "stderr",
     "output_type": "stream",
     "text": [
      "\u001b[32m2024-02-08 16:02:39.821\u001b[0m | \u001b[1mINFO    \u001b[0m | \u001b[36mmorefish.seg.seg\u001b[0m:\u001b[36mpartition_transcripts\u001b[0m:\u001b[36m248\u001b[0m - \u001b[1mSkipping existing partitions\u001b[0m\n",
      "100%|████████████████████████████████████████████████████████████████████████████████████████████████████████| 1243/1243 [00:03<00:00, 330.42it/s]\n"
     ]
    }
   ],
   "source": [
    "cxg = segor.partition_transcripts(cell_segs, )"
   ]
  },
  {
   "cell_type": "markdown",
   "id": "a334d2e7",
   "metadata": {},
   "source": [
    "Save the results of segementation"
   ]
  },
  {
   "cell_type": "code",
   "execution_count": 15,
   "id": "9870d2a9",
   "metadata": {
    "ExecuteTime": {
     "end_time": "2024-02-09T00:04:17.323928Z",
     "start_time": "2024-02-09T00:04:17.317392Z"
    }
   },
   "outputs": [
    {
     "name": "stderr",
     "output_type": "stream",
     "text": [
      "\u001b[32m2024-02-08 16:04:17.320\u001b[0m | \u001b[33m\u001b[1mWARNING \u001b[0m | \u001b[36mmorefish.merfish\u001b[0m:\u001b[36m_save_boundaries\u001b[0m:\u001b[36m406\u001b[0m - \u001b[33m\u001b[1m/gale/netapp/home/wtian/bican/incoming/output/202310201411_P28-mouse-brain-B4-1_VMSC12802/region_0/MOREFISH/ReSeg/test/cell_boundaries.parquet already exists. Use \"override=True\" if you want to update it\u001b[0m\n",
      "\u001b[32m2024-02-08 16:04:17.321\u001b[0m | \u001b[33m\u001b[1mWARNING \u001b[0m | \u001b[36mmorefish.merfish\u001b[0m:\u001b[36m_save_meta\u001b[0m:\u001b[36m430\u001b[0m - \u001b[33m\u001b[1m/gale/netapp/home/wtian/bican/incoming/output/202310201411_P28-mouse-brain-B4-1_VMSC12802/region_0/MOREFISH/ReSeg/test/cell_metadata.csv already exists. Use \"override=True\" if you want to update it\u001b[0m\n",
      "\u001b[32m2024-02-08 16:04:17.322\u001b[0m | \u001b[33m\u001b[1mWARNING \u001b[0m | \u001b[36mmorefish.merfish\u001b[0m:\u001b[36m_save_cellbygene\u001b[0m:\u001b[36m451\u001b[0m - \u001b[33m\u001b[1m/gale/netapp/home/wtian/bican/incoming/output/202310201411_P28-mouse-brain-B4-1_VMSC12802/region_0/MOREFISH/ReSeg/test/cell_by_gene.csv already exists. Use \"override=True\" if you want to update it\u001b[0m\n"
     ]
    }
   ],
   "source": [
    "mr.save_reseg_results(cell_segs, cxg, seg_name)"
   ]
  },
  {
   "cell_type": "markdown",
   "id": "dfc2e21e",
   "metadata": {},
   "source": [
    "Now the result can be loaded for further analysis"
   ]
  },
  {
   "cell_type": "code",
   "execution_count": 16,
   "id": "5084329b",
   "metadata": {
    "ExecuteTime": {
     "end_time": "2024-02-09T00:05:08.831864Z",
     "start_time": "2024-02-09T00:04:49.279721Z"
    }
   },
   "outputs": [
    {
     "name": "stderr",
     "output_type": "stream",
     "text": [
      "\u001b[32m2024-02-08 16:04:49.280\u001b[0m | \u001b[1mINFO    \u001b[0m | \u001b[36mmorefish.merfish\u001b[0m:\u001b[36mload_segmentation_results\u001b[0m:\u001b[36m497\u001b[0m - \u001b[1mLoading segmentation results for \"test\"\u001b[0m\n"
     ]
    }
   ],
   "source": [
    "mr.load_segmentation_results(seg_name)"
   ]
  },
  {
   "cell_type": "markdown",
   "id": "68b37185",
   "metadata": {},
   "source": [
    "Anndata that can be further analyzed with scanpy"
   ]
  },
  {
   "cell_type": "code",
   "execution_count": 17,
   "id": "ef315f84",
   "metadata": {
    "ExecuteTime": {
     "end_time": "2024-02-09T00:05:08.838821Z",
     "start_time": "2024-02-09T00:05:08.833738Z"
    }
   },
   "outputs": [
    {
     "data": {
      "text/plain": [
       "AnnData object with n_obs × n_vars = 352262 × 500\n",
       "    obs: 'fov', 'volume', 'center_x', 'center_y', 'min_x', 'min_y', 'max_x', 'max_y', 'anisotropy', 'transcript_count', 'perimeter_area_ratio', 'solidity', 'DAPI_raw', 'DAPI_high_pass', 'PolyT_raw', 'PolyT_high_pass'\n",
       "    uns: 'neg_probs'"
      ]
     },
     "execution_count": 17,
     "metadata": {},
     "output_type": "execute_result"
    }
   ],
   "source": [
    "mr.adata"
   ]
  },
  {
   "cell_type": "markdown",
   "id": "1596fb69",
   "metadata": {},
   "source": [
    "Cell segmentation"
   ]
  },
  {
   "cell_type": "code",
   "execution_count": 20,
   "id": "19836978",
   "metadata": {
    "ExecuteTime": {
     "end_time": "2024-02-09T00:06:58.123785Z",
     "start_time": "2024-02-09T00:06:57.930124Z"
    }
   },
   "outputs": [
    {
     "data": {
      "text/plain": [
       "<Axes: >"
      ]
     },
     "execution_count": 20,
     "metadata": {},
     "output_type": "execute_result"
    },
    {
     "data": {
      "image/png": "[encoded data removed]",
      "text/plain": [
       "<Figure size 640x480 with 1 Axes>"
      ]
     },
     "metadata": {},
     "output_type": "display_data"
    }
   ],
   "source": [
    "tile_i = 717\n",
    "mf.pl.boundaryplot(mr, tile_i, \n",
    "                   facecolor='r', edgecolor='b', linewidth=1)"
   ]
  },
  {
   "cell_type": "code",
   "execution_count": null,
   "id": "81cd4282",
   "metadata": {},
   "outputs": [],
   "source": []
  }
 ],
 "metadata": {
  "kernelspec": {
   "display_name": "Python [conda env:morefish]",
   "language": "python",
   "name": "conda-env-morefish-py"
  },
  "language_info": {
   "codemirror_mode": {
    "name": "ipython",
    "version": 3
   },
   "file_extension": ".py",
   "mimetype": "text/x-python",
   "name": "python",
   "nbconvert_exporter": "python",
   "pygments_lexer": "ipython3",
   "version": "3.9.18"
  },
  "toc": {
   "base_numbering": 1,
   "nav_menu": {},
   "number_sections": true,
   "sideBar": true,
   "skip_h1_title": false,
   "title_cell": "Table of Contents",
   "title_sidebar": "Contents",
   "toc_cell": false,
   "toc_position": {},
   "toc_section_display": true,
   "toc_window_display": false
  }
 },
 "nbformat": 4,
 "nbformat_minor": 5
}
