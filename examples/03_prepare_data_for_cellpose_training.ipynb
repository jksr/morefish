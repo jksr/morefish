{
 "cells": [
  {
   "cell_type": "code",
   "execution_count": 2,
   "id": "fc8bbc70",
   "metadata": {
    "ExecuteTime": {
     "end_time": "2024-02-09T00:09:20.294293Z",
     "start_time": "2024-02-09T00:09:20.290760Z"
    }
   },
   "outputs": [],
   "source": [
    "import matplotlib.pyplot as plt\n",
    "from matplotlib.gridspec import GridSpec\n",
    "\n",
    "import numpy as np\n",
    "import pandas as pd\n",
    "import geopandas as gpd\n",
    "import morefish as mf\n",
    "import tifffile"
   ]
  },
  {
   "cell_type": "markdown",
   "id": "0b471fa2",
   "metadata": {},
   "source": [
    "Experiment results interested in creating the new model"
   ]
  },
  {
   "cell_type": "code",
   "execution_count": 3,
   "id": "257f2f19",
   "metadata": {
    "ExecuteTime": {
     "end_time": "2024-02-09T00:10:11.420786Z",
     "start_time": "2024-02-09T00:10:11.418414Z"
    }
   },
   "outputs": [],
   "source": [
    "dirns = ['/gale/ddn/bican/processing/202303021147_HumanA46RepBICANPilot_VMSC01101/output/region_0',\n",
    "         '/gale/ddn/bican/processing/202302171232_HumanBnstGPeBICANPilot_VMSC01101/output/region_0',\n",
    "         '/gale/ddn/bican/processing/202210061152_HumanSIGPeWei_VMSC01101/output/region_0',\n",
    "         '/gale/ddn/bican/processing/202304241136_HumanV1CRep2BICANPilot_VMSC00501/output/region_0']"
   ]
  },
  {
   "cell_type": "markdown",
   "id": "5bb7e1e5",
   "metadata": {},
   "source": [
    "The following code will check each experiment, and sample tiles which likely to have some cells. \n",
    "\n",
    "Complete empty tiles will not be selected.\n",
    "\n",
    "In each experiment, `n_tile_samples` number of tiles will be sampled for cellpose training\n",
    "\n",
    "The results will rgb tiff files in the \"tifs/\" subfolder."
   ]
  },
  {
   "cell_type": "code",
   "execution_count": 6,
   "id": "1d5b0ba4",
   "metadata": {
    "ExecuteTime": {
     "end_time": "2024-02-09T00:14:08.567954Z",
     "start_time": "2024-02-09T00:14:08.439211Z"
    }
   },
   "outputs": [],
   "source": [
    "!mkdir tifs -p"
   ]
  },
  {
   "cell_type": "code",
   "execution_count": 4,
   "id": "a5d440fb",
   "metadata": {
    "ExecuteTime": {
     "end_time": "2024-02-09T00:12:32.648643Z",
     "start_time": "2024-02-09T00:12:32.646185Z"
    }
   },
   "outputs": [],
   "source": [
    "n_tile_samples = 10"
   ]
  },
  {
   "cell_type": "code",
   "execution_count": null,
   "id": "e27bcbca",
   "metadata": {},
   "outputs": [],
   "source": [
    "for dirn in dirns[4:]:\n",
    "    *_,name,_,reg = dirn.split('/')\n",
    "    name = name.split('_')[1]\n",
    "\n",
    "    mr = mf.MerfishRegion(dirn)\n",
    "    stats = []\n",
    "    for tile_i in range(len(mr.tiles.tiles)):\n",
    "        for z in range(7):\n",
    "            img = mr.get_tile_image('DAPI',z,tile_i)\n",
    "            stats.append(np.quantile(img,np.linspace(0,1,11)).tolist()+[z, tile_i])\n",
    "\n",
    "    stats = pd.DataFrame(stats, columns=[f'q{i}0' for i in range(11)]+['z','tile_i'])\n",
    "\n",
    "    a=0.4\n",
    "    for _, (*_,z,tile_i) in stats[stats['q90']>=stats['q90'].quantile(a)].sample(n_tile_samples).iterrows():\n",
    "        z = int(z)\n",
    "        tile_i = int(tile_i)\n",
    "        figfn = f'tifs/{name}_{reg}_z{z}_t{tile_i}-DAPI+PolyT.tif'\n",
    "        img = mr.get_tile_image_rgb(['DAPI','PolyT'],z,tile_i).astype(np.uint16)\n",
    "        tifffile.imwrite(figfn, img, dtype=np.uint16)\n"
   ]
  },
  {
   "cell_type": "markdown",
   "id": "ce34b71f",
   "metadata": {},
   "source": [
    "After tiff file generation, we could load them with cellpose gui for \"human-in-the-loop\" training.\n",
    "\n",
    "In the seting of code above, we should select channel 1 as Red and channel 2 as Green in the cellpose GUI"
   ]
  },
  {
   "cell_type": "code",
   "execution_count": null,
   "id": "1f427d85",
   "metadata": {},
   "outputs": [],
   "source": []
  }
 ],
 "metadata": {
  "kernelspec": {
   "display_name": "Python [conda env:morefish]",
   "language": "python",
   "name": "conda-env-morefish-py"
  },
  "language_info": {
   "codemirror_mode": {
    "name": "ipython",
    "version": 3
   },
   "file_extension": ".py",
   "mimetype": "text/x-python",
   "name": "python",
   "nbconvert_exporter": "python",
   "pygments_lexer": "ipython3",
   "version": "3.9.18"
  },
  "toc": {
   "base_numbering": 1,
   "nav_menu": {},
   "number_sections": true,
   "sideBar": true,
   "skip_h1_title": false,
   "title_cell": "Table of Contents",
   "title_sidebar": "Contents",
   "toc_cell": false,
   "toc_position": {},
   "toc_section_display": true,
   "toc_window_display": false
  }
 },
 "nbformat": 4,
 "nbformat_minor": 5
}
